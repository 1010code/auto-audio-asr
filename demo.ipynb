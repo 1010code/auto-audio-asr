{
 "cells": [
  {
   "cell_type": "code",
   "execution_count": 1,
   "metadata": {},
   "outputs": [
    {
     "name": "stderr",
     "output_type": "stream",
     "text": [
      "Downloading: \"https://github.com/snakers4/silero-vad/zipball/master\" to /home/jovyan/.cache/torch/hub/master.zip\n"
     ]
    }
   ],
   "source": [
    "import torch\n",
    "\n",
    "# download to .cache folder\n",
    "model, utils = torch.hub.load(repo_or_dir='snakers4/silero-vad',\n",
    "                              model='silero_vad',\n",
    "                              force_reload=True)\n",
    "\n",
    "(get_speech_timestamps,\n",
    " save_audio,\n",
    " read_audio,\n",
    " VADIterator,\n",
    " collect_chunks) = utils"
   ]
  },
  {
   "cell_type": "code",
   "execution_count": 4,
   "metadata": {},
   "outputs": [],
   "source": [
    "sampling_rate = 16000\n",
    "wav = read_audio('1-你認識你自己嗎.wav', sampling_rate=sampling_rate)[:16000*10]\n",
    "# get speech timestamps from full audio file\n",
    "speech_timestamps = get_speech_timestamps(wav, model, sampling_rate=sampling_rate)"
   ]
  },
  {
   "cell_type": "code",
   "execution_count": 5,
   "metadata": {},
   "outputs": [],
   "source": [
    "# import IPython\n",
    "\n",
    "# # play numpy audio file\n",
    "# for i in range(len(speech_timestamps)):\n",
    "#     start=speech_timestamps[i]['start']\n",
    "#     end=speech_timestamps[i]['end']\n",
    "#     IPython.display.display(IPython.display.Audio(wav.numpy()[start:end], rate=sampling_rate))"
   ]
  },
  {
   "cell_type": "code",
   "execution_count": 6,
   "metadata": {},
   "outputs": [
    {
     "name": "stdout",
     "output_type": "stream",
     "text": [
      "願意聽別人說話的人並不多\n",
      "每個人都\n"
     ]
    }
   ],
   "source": [
    "import io\n",
    "from scipy.io.wavfile import write\n",
    "import speech_recognition as sr\n",
    "import numpy as np\n",
    "\n",
    "for i in range(len(speech_timestamps)):\n",
    "    start=speech_timestamps[i]['start']\n",
    "    end=speech_timestamps[i]['end']\n",
    "    byte_io = io.BytesIO(bytes())\n",
    "    recording = wav.numpy()[start:end]\n",
    "    audio_array = np.int16(recording/np.max(np.abs(recording)) * 32767) # 方法1\n",
    "    write(byte_io, sampling_rate, audio_array)\n",
    "    result_bytes = byte_io.read()\n",
    "\n",
    "    audio_data = sr.AudioData(result_bytes, sampling_rate, 2)\n",
    "    r = sr.Recognizer()\n",
    "    try:\n",
    "        print(r.recognize_google(audio_data, language='cmn-Hant-TW'))\n",
    "    except:\n",
    "        continue\n",
    "        "
   ]
  },
  {
   "cell_type": "code",
   "execution_count": null,
   "metadata": {},
   "outputs": [],
   "source": []
  }
 ],
 "metadata": {
  "kernelspec": {
   "display_name": "Python 3",
   "language": "python",
   "name": "python3"
  },
  "language_info": {
   "codemirror_mode": {
    "name": "ipython",
    "version": 3
   },
   "file_extension": ".py",
   "mimetype": "text/x-python",
   "name": "python",
   "nbconvert_exporter": "python",
   "pygments_lexer": "ipython3",
   "version": "3.7.6"
  }
 },
 "nbformat": 4,
 "nbformat_minor": 4
}
